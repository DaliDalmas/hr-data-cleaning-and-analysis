{
 "cells": [
  {
   "cell_type": "code",
   "execution_count": 1,
   "id": "20d344be-c5a1-4518-8de7-73676f7b82ce",
   "metadata": {},
   "outputs": [],
   "source": [
    "import math\n",
    "def is_prime_number(number):\n",
    "    if number in [0,1]:\n",
    "        return False\n",
    "    elif number in [2,3,5,7,11,13,17,19]:\n",
    "        return True\n",
    "    elif number%2==0:\n",
    "        return False\n",
    "    elif number%3==0:\n",
    "        return False\n",
    "    elif number%5==0:\n",
    "        return False\n",
    "    elif number%7==0:\n",
    "        return False\n",
    "    elif number%11==0:\n",
    "        return False\n",
    "    elif number%13==0:\n",
    "        return False\n",
    "    elif number%17==0:\n",
    "        return False\n",
    "    elif number%19==0:\n",
    "        return False\n",
    "    root = math.sqrt(number)\n",
    "    \n",
    "    other_numbers = [i for i in range(3,int(root+1)) if ((i%2!=0)&\\\n",
    "                                                         (i%3!=0)&(i%5!=0)&(i%7!=0)&\\\n",
    "                                                         (i%11!=0)&(i%13!=0)&(i%17!=0)&\\\n",
    "                                                        (i%19!=0))]\n",
    "    for num in other_numbers:\n",
    "        if (number%num)==0:\n",
    "            return False\n",
    "    return True\n"
   ]
  },
  {
   "cell_type": "code",
   "execution_count": 7,
   "id": "162352eb-68fb-4b22-a1f6-45dec80bddb8",
   "metadata": {},
   "outputs": [],
   "source": [
    "def get_primes(value1,value2):\n",
    "    prime_numbers = []\n",
    "    for value in range(value1,value2):\n",
    "        if is_prime_number(value):\n",
    "            prime_numbers.append(value)\n",
    "    return prime_numbers"
   ]
  },
  {
   "cell_type": "code",
   "execution_count": 11,
   "id": "25c9913d-847f-4ea8-a764-d6d882053928",
   "metadata": {},
   "outputs": [
    {
     "data": {
      "text/plain": [
       "1204"
      ]
     },
     "execution_count": 11,
     "metadata": {},
     "output_type": "execute_result"
    }
   ],
   "source": [
    "len(get_primes(100,10000))"
   ]
  },
  {
   "cell_type": "code",
   "execution_count": null,
   "id": "2e31b64a-7c28-482c-af56-28afd8491980",
   "metadata": {},
   "outputs": [],
   "source": []
  }
 ],
 "metadata": {
  "kernelspec": {
   "display_name": "Python 3 (ipykernel)",
   "language": "python",
   "name": "python3"
  },
  "language_info": {
   "codemirror_mode": {
    "name": "ipython",
    "version": 3
   },
   "file_extension": ".py",
   "mimetype": "text/x-python",
   "name": "python",
   "nbconvert_exporter": "python",
   "pygments_lexer": "ipython3",
   "version": "3.8.5"
  }
 },
 "nbformat": 4,
 "nbformat_minor": 5
}
